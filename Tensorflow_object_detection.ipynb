{
  "cells": [
    {
      "cell_type": "markdown",
      "metadata": {
        "id": "view-in-github",
        "colab_type": "text"
      },
      "source": [
        "<a href=\"https://colab.research.google.com/github/PawelGradek/Sieci_zlozone/blob/main/Tensorflow_object_detection.ipynb\" target=\"_parent\"><img src=\"https://colab.research.google.com/assets/colab-badge.svg\" alt=\"Open In Colab\"/></a>"
      ]
    },
    {
      "cell_type": "markdown",
      "metadata": {
        "id": "fkMN55KRzCxB"
      },
      "source": [
        "# **1) Install tensorflow 2.7.0**\n"
      ]
    },
    {
      "cell_type": "code",
      "execution_count": null,
      "metadata": {
        "id": "gKiu6MPl1Xi9"
      },
      "outputs": [],
      "source": [
        "!pip install tensorflow==2.7.0\n"
      ]
    },
    {
      "cell_type": "markdown",
      "metadata": {
        "id": "0NnWkK6juMoj"
      },
      "source": [
        "Step to doing: 1,2,3,4,5,13 "
      ]
    },
    {
      "cell_type": "markdown",
      "metadata": {
        "id": "pjfRnVN12JWF"
      },
      "source": [
        "# **2) Import liblaries**"
      ]
    },
    {
      "cell_type": "code",
      "execution_count": null,
      "metadata": {
        "id": "CwoREwF6Jxdy"
      },
      "outputs": [],
      "source": [
        "import tensorflow as tf\n",
        "import os\n",
        "import glob\n",
        "import xml.etree.ElementTree as ET\n",
        "import pandas as pd"
      ]
    },
    {
      "cell_type": "markdown",
      "metadata": {
        "id": "OLsPGJiuxRrK"
      },
      "source": [
        "# **3)  Connect to google drive**"
      ]
    },
    {
      "cell_type": "code",
      "execution_count": null,
      "metadata": {
        "colab": {
          "base_uri": "https://localhost:8080/"
        },
        "id": "RhZoiRBoqnju",
        "outputId": "560aeea9-a2a9-4b6b-cb8f-9f7a991ca1f6"
      },
      "outputs": [
        {
          "output_type": "stream",
          "name": "stdout",
          "text": [
            "Mounted at /content/gdrive\n",
            "'Colab Notebooks'   customTF1   customTF2_proba   im   Studia\n"
          ]
        }
      ],
      "source": [
        "from google.colab import drive\n",
        "drive.mount('/content/gdrive')\n",
        "\n",
        "!ln -s /content/gdrive/My\\ Drive/ /mydrive\n",
        "\n",
        "!ls /mydrive"
      ]
    },
    {
      "cell_type": "markdown",
      "metadata": {
        "id": "0tWHcoAF9f6K"
      },
      "source": [
        "# **4) Clone TensorFlow models and install TensorFlow Object Detection API**\n",
        "\n",
        "\n",
        "\n"
      ]
    },
    {
      "cell_type": "code",
      "execution_count": null,
      "metadata": {
        "id": "Iv3C8-s0koQU"
      },
      "outputs": [],
      "source": [
        "!git clone --q https://github.com/tensorflow/models.git\n",
        "\n",
        "%cd models/research\n",
        "\n",
        "!protoc object_detection/protos/*.proto --python_out=.\n",
        "\n",
        "!cp object_detection/packages/tf2/setup.py .  \n",
        "!python -m pip install .\n"
      ]
    },
    {
      "cell_type": "markdown",
      "metadata": {
        "id": "9D1UNW7c9O-I"
      },
      "source": [
        "# **5) Test the model builder**\n"
      ]
    },
    {
      "cell_type": "code",
      "execution_count": null,
      "metadata": {
        "id": "St1r_0-w9jqI"
      },
      "outputs": [],
      "source": [
        "!python object_detection/builders/model_builder_tf2_test.py"
      ]
    },
    {
      "cell_type": "markdown",
      "metadata": {
        "id": "SrNF9Lnw_m7O"
      },
      "source": [
        "# **6) unzip images and annotations folders**\n",
        "\n"
      ]
    },
    {
      "cell_type": "code",
      "execution_count": null,
      "metadata": {
        "id": "m1UT5_rrTw6e"
      },
      "outputs": [],
      "source": [
        "%cd /mydrive/customTF1/data/\n",
        "\n",
        "!unzip /mydrive/customTF1/images.zip -d .\n",
        "!unzip /mydrive/customTF1/annotations.zip -d ."
      ]
    },
    {
      "cell_type": "markdown",
      "metadata": {
        "id": "fYUW7UZejKFb"
      },
      "source": [
        "# **7) Create test_labels and train_labels**\n"
      ]
    },
    {
      "cell_type": "code",
      "execution_count": null,
      "metadata": {
        "id": "AoyMt_vssl1j"
      },
      "outputs": [],
      "source": [
        "!mkdir test_labels train_labels\n",
        "\n",
        "\n",
        "# (20% of the labels) to the testing dir\n",
        "!ls annotations/* | sort -R | head -800 | xargs -I{} mv {} test_labels/\n",
        "\n",
        "!ls annotations/* | xargs -I{} mv {} train_labels/\n"
      ]
    },
    {
      "cell_type": "markdown",
      "metadata": {
        "id": "vH67M2M12s3n"
      },
      "source": [
        "# **8) Create the CSV files and the \"label_map.pbtxt\" file**\n"
      ]
    },
    {
      "cell_type": "code",
      "execution_count": null,
      "metadata": {
        "colab": {
          "base_uri": "https://localhost:8080/"
        },
        "id": "VyGisGxK4ag0",
        "outputId": "81a29226-b4ef-4d62-bd54-f9ca9ab0baa8"
      },
      "outputs": [
        {
          "name": "stdout",
          "output_type": "stream",
          "text": [
            "Successfully converted train_labels xml to csv.\n",
            "Successfully converted test_labels xml to csv.\n",
            "Successfully created label_map.pbtxt \n"
          ]
        }
      ],
      "source": [
        "def xml_to_csv(path):\n",
        "  classes_names = []\n",
        "  xml_list = []\n",
        "\n",
        "  for xml_file in glob.glob(path + '/*.xml'):\n",
        "    tree = ET.parse(xml_file)\n",
        "    root = tree.getroot()\n",
        "    for member in root.findall('object'):\n",
        "      classes_names.append(member[0].text)\n",
        "      value = (root.find('filename').text  ,       \n",
        "               int(root.find('size')[0].text),\n",
        "               int(root.find('size')[1].text),\n",
        "               member[0].text,\n",
        "               int(member[5][0].text),\n",
        "               int(member[5][2].text),\n",
        "               int(member[5][1].text),\n",
        "               int(member[5][3].text))\n",
        "      xml_list.append(value)\n",
        "  column_name = ['filename', 'width', 'height', 'class', 'xmin', 'ymin', 'xmax', 'ymax']\n",
        "  xml_df = pd.DataFrame(xml_list, columns=column_name) \n",
        "  classes_names = list(set(classes_names))\n",
        "  classes_names.sort()\n",
        "  return xml_df, classes_names\n",
        "\n",
        "for label_path in ['train_labels', 'test_labels']:\n",
        "  image_path = os.path.join(os.getcwd(), label_path)\n",
        "  xml_df, classes = xml_to_csv(label_path)\n",
        "  xml_df.to_csv(f'{label_path}.csv', index=None)\n",
        "  print(f'Successfully converted {label_path} xml to csv.')\n",
        "\n",
        "label_map_path = os.path.join(\"label_map.pbtxt\")\n",
        "pbtxt_content = \"\"\n",
        "\n",
        "for i, class_name in enumerate(classes):\n",
        "    pbtxt_content = (\n",
        "        pbtxt_content\n",
        "        + \"item {{\\n    id: {0}\\n    name: '{1}'\\n}}\\n\\n\".format(i + 1, class_name)\n",
        "    )\n",
        "pbtxt_content = pbtxt_content.strip()\n",
        "with open(label_map_path, \"w\") as f:\n",
        "    f.write(pbtxt_content)\n",
        "    print('Successfully created label_map.pbtxt ')"
      ]
    },
    {
      "cell_type": "markdown",
      "metadata": {
        "id": "tblFU-i495qr"
      },
      "source": [
        "# **9) Create train.record and test.record files**\n",
        "\n",
        "\n"
      ]
    },
    {
      "cell_type": "code",
      "execution_count": null,
      "metadata": {
        "colab": {
          "base_uri": "https://localhost:8080/"
        },
        "id": "0OH02x-8qzdp",
        "outputId": "4290ed1f-7f77-4122-efe8-235890444c20"
      },
      "outputs": [
        {
          "name": "stdout",
          "output_type": "stream",
          "text": [
            "/content/gdrive/My Drive/customTF1/data\n"
          ]
        }
      ],
      "source": [
        "%cd /mydrive/customTF1/data/"
      ]
    },
    {
      "cell_type": "code",
      "execution_count": null,
      "metadata": {
        "colab": {
          "base_uri": "https://localhost:8080/"
        },
        "id": "kHGo0lCflP4P",
        "outputId": "65670296-d88d-4f77-f05a-2f993b937883"
      },
      "outputs": [
        {
          "name": "stdout",
          "output_type": "stream",
          "text": [
            "groups: 100% 3042/3042 [00:07<00:00, 409.44it/s]\n",
            "Successfully created the TFRecords: /content/gdrive/My Drive/customTF1/data/train.record\n",
            "groups: 100% 797/797 [00:02<00:00, 384.94it/s]\n",
            "Successfully created the TFRecords: /content/gdrive/My Drive/customTF1/data/test.record\n"
          ]
        }
      ],
      "source": [
        "!python /mydrive/customTF1/generate_tfrecord.py train_labels.csv  label_map.pbtxt images/ train.record\n",
        "\n",
        "!python /mydrive/customTF1/generate_tfrecord.py test_labels.csv  label_map.pbtxt images/ test.record"
      ]
    },
    {
      "cell_type": "markdown",
      "metadata": {
        "id": "nwWh49ClaBeD"
      },
      "source": [
        "# **10) Download pre-trained model checkpoint** \n",
        "\n"
      ]
    },
    {
      "cell_type": "code",
      "source": [
        "%cd /content/gdrive/MyDrive/customTF1/data"
      ],
      "metadata": {
        "colab": {
          "base_uri": "https://localhost:8080/"
        },
        "id": "8JJ5ckdSV3sK",
        "outputId": "4a362525-4e58-4d8d-c4d4-0f5b2ad92221"
      },
      "execution_count": null,
      "outputs": [
        {
          "output_type": "stream",
          "name": "stdout",
          "text": [
            "/content/gdrive/MyDrive/customTF1/data\n"
          ]
        }
      ]
    },
    {
      "cell_type": "code",
      "source": [
        "!wget http://download.tensorflow.org/models/object_detection/tf2/20200711/ssd_mobilenet_v2_fpnlite_320x320_coco17_tpu-8.tar.gz\n",
        "!tar -xzvf ssd_mobilenet_v2_fpnlite_320x320_coco17_tpu-8.tar.gz"
      ],
      "metadata": {
        "id": "FjwskOLiei6p"
      },
      "execution_count": null,
      "outputs": []
    },
    {
      "cell_type": "markdown",
      "metadata": {
        "id": "tlzGrIfdAKj9"
      },
      "source": [
        "# **12) Train the model**\n",
        "\n",
        "\n",
        "\n",
        "\n"
      ]
    },
    {
      "cell_type": "code",
      "execution_count": null,
      "metadata": {
        "colab": {
          "base_uri": "https://localhost:8080/"
        },
        "id": "phPW9zD0fx2k",
        "outputId": "461c57e0-178e-4e4a-8d81-8aafbb63e328"
      },
      "outputs": [
        {
          "output_type": "stream",
          "name": "stdout",
          "text": [
            "/content/models/research/object_detection\n"
          ]
        }
      ],
      "source": [
        "%cd /content/models/research/object_detection"
      ]
    },
    {
      "cell_type": "code",
      "source": [
        "!python model_main_tf2.py --pipeline_config_path=/mydrive/customTF1/data/ssd_mobilenet_v2_fpnlite_320x320_coco17_tpu-8.config --model_dir=/mydrive/customTF1/training --alsologtostderr"
      ],
      "metadata": {
        "id": "ui6y_AV1fQhG"
      },
      "execution_count": null,
      "outputs": []
    },
    {
      "cell_type": "code",
      "source": [
        " !pip uninstall opencv-python-headless==4.5.5.62"
      ],
      "metadata": {
        "id": "89hfY0Ul4dNS"
      },
      "execution_count": null,
      "outputs": []
    },
    {
      "cell_type": "code",
      "source": [
        "!pip install opencv-python-headless==4.1.2.30"
      ],
      "metadata": {
        "id": "jNrIV6Gt4pF2"
      },
      "execution_count": null,
      "outputs": []
    },
    {
      "cell_type": "code",
      "source": [
        "!python exporter_main_v2.py --trained_checkpoint_dir=/mydrive/customTF1/training --pipeline_config_path=/content/gdrive/MyDrive/customTF1/data/ssd_mobilenet_v2_fpnlite_320x320_coco17_tpu-8.config --output_directory /mydrive/customTF1/data/inference_graph"
      ],
      "metadata": {
        "id": "-xuwV--SM5XD"
      },
      "execution_count": null,
      "outputs": []
    },
    {
      "cell_type": "code",
      "source": [
        "!wget https://freefontsdownload.net/download/160187/arial.zip\n",
        "!unzip arial.zip -d .\n",
        "\n",
        "%cd utils/\n",
        "!sed -i \"s/font = ImageFont.truetype('arial.ttf', 24)/font = ImageFont.truetype('arial.ttf', 50)/\" visualization_utils.py\n",
        "%cd .."
      ],
      "metadata": {
        "id": "_yNYEnhW4h3_"
      },
      "execution_count": null,
      "outputs": []
    },
    {
      "cell_type": "code",
      "source": [
        "!pip install cv2_plt_imshow"
      ],
      "metadata": {
        "id": "3GCkRdHT6yAH"
      },
      "execution_count": null,
      "outputs": []
    },
    {
      "cell_type": "code",
      "source": [
        "!pip uninstall opencv-python-headless==4.5.5.62"
      ],
      "metadata": {
        "id": "ObnAyfSJKiC1"
      },
      "execution_count": null,
      "outputs": []
    },
    {
      "cell_type": "code",
      "source": [
        "!pip install opencv-python-headless==4.1.2.30"
      ],
      "metadata": {
        "id": "WCfpVn-SK6Fd"
      },
      "execution_count": null,
      "outputs": []
    },
    {
      "cell_type": "code",
      "source": [
        "import tensorflow as tf\n",
        "import time\n",
        "import numpy as np\n",
        "import warnings\n",
        "warnings.filterwarnings('ignore')\n",
        "from PIL import Image\n",
        "from google.colab.patches import cv2_imshow\n",
        "from object_detection.utils import label_map_util\n",
        "from object_detection.utils import visualization_utils as viz_utils\n",
        "import matplotlib.pyplot as plt\n",
        "\n",
        "PATH_TO_SAVED_MODEL=\"/mydrive/customTF1/data/inference_graph/saved_model\"\n",
        "\n",
        "detect_fn=tf.saved_model.load(PATH_TO_SAVED_MODEL)\n",
        " \n",
        "category_index=label_map_util.create_category_index_from_labelmap(\"/mydrive/customTF1/data/label_map.pbtxt\",use_display_name=True)\n",
        "\n",
        "\n",
        "def image_to_array(path):\n",
        "    return np.array(Image.open(path))\n",
        "\n",
        "\n",
        "image_path = \"/content/gdrive/MyDrive/im/walking_with_dog/walking_the_dog_287.jpg\"\n",
        "\n",
        "\n",
        "image_np = image_to_array(image_path)\n",
        "\n",
        "\n",
        "tensor = tf.convert_to_tensor(image_np)\n",
        "tensor = tensor[tf.newaxis, ...]\n",
        "detections = detect_fn(tensor)\n",
        "\n",
        "\n",
        "\n",
        "num_detections = int(detections.pop('num_detections'))\n",
        "\n",
        "\n",
        "detections = {key: value[0, :num_detections].numpy()\n",
        "              for key, value in detections.items()}\n",
        "\n",
        "detections['num_detections'] = num_detections\n",
        "\n",
        "\n",
        "detections['detection_classes'] = detections['detection_classes'].astype(np.int64)\n",
        "\n",
        "\n",
        "image_with_detections = image_np.copy()\n",
        "\n",
        "viz_utils.visualize_boxes_and_labels_on_image_array(\n",
        "      image_with_detections,\n",
        "      detections['detection_boxes'],\n",
        "      detections['detection_classes'],\n",
        "      detections['detection_scores'],\n",
        "      category_index,\n",
        "      use_normalized_coordinates=True,\n",
        "      max_boxes_to_draw=200,\n",
        "      min_score_thresh=.4, \n",
        "      agnostic_mode=False)\n",
        "%matplotlib inline\n",
        "\n",
        "plt.figure(figsize=(6,4), dpi=200)\n",
        "plt.axis(\"off\")\n",
        "plt.imshow(image_with_detections)\n",
        "plt.show()"
      ],
      "metadata": {
        "id": "eg0cT3CJ4o00"
      },
      "execution_count": null,
      "outputs": []
    }
  ],
  "metadata": {
    "colab": {
      "collapsed_sections": [],
      "machine_shape": "hm",
      "name": "Tensorflow_object_detection.ipynb",
      "provenance": [],
      "include_colab_link": true
    },
    "kernelspec": {
      "display_name": "Python 3",
      "name": "python3"
    }
  },
  "nbformat": 4,
  "nbformat_minor": 0
}